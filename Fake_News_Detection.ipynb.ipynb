{
 "cells": [
  {
   "cell_type": "code",
   "execution_count": 1,
   "id": "cc392cfe-d355-4e9c-804f-90563a745405",
   "metadata": {},
   "outputs": [],
   "source": [
    "# Fake News Detection using Machine Learning\n"
   ]
  },
  {
   "cell_type": "code",
   "execution_count": 2,
   "id": "c7501862-30f6-4c32-8e08-96bd6a9bdd93",
   "metadata": {},
   "outputs": [],
   "source": [
    "# STEP 1: Import Libraries\n",
    "import pandas as pd\n",
    "import numpy as np\n",
    "import matplotlib.pyplot as plt\n",
    "import seaborn as sns\n",
    "import warnings\n",
    "warnings.filterwarnings('ignore')\n"
   ]
  },
  {
   "cell_type": "code",
   "execution_count": 10,
   "id": "ec4c3cf4-bfbf-4038-b9af-ffc3155fff67",
   "metadata": {},
   "outputs": [],
   "source": [
    "#STEP 2: Laod the dataset\n",
    "true_df = pd.read_csv(r\"C:\\Users\\Nikhil\\Desktop\\MLP Project\\True.csv\")\n",
    "fake_df = pd.read_csv(r\"C:\\Users\\Nikhil\\Desktop\\MLP Project\\Fake.csv\")"
   ]
  },
  {
   "cell_type": "code",
   "execution_count": 11,
   "id": "62b61498-0018-483b-ad3e-c23c89f55fee",
   "metadata": {},
   "outputs": [],
   "source": [
    "# STEP 3: Add Labels\n",
    "true_df['label'] = 1\n",
    "fake_df['label'] = 0\n"
   ]
  },
  {
   "cell_type": "code",
   "execution_count": 12,
   "id": "dc4d75e6-479e-453f-9691-29ff17ce1a39",
   "metadata": {},
   "outputs": [],
   "source": [
    "# STEP 4: Combine Datasets\n",
    "df = pd.concat([true_df[['title', 'text', 'label']], fake_df[['title', 'text', 'label']]])\n",
    "df = df.sample(frac=1).reset_index(drop=True)\n",
    "df['content'] = df['title'] + \" \" + df['text']\n",
    "df = df[['content', 'label']]"
   ]
  },
  {
   "cell_type": "code",
   "execution_count": 13,
   "id": "dd8823bb-03c9-4e79-9bd9-03de1cf39c5e",
   "metadata": {},
   "outputs": [],
   "source": [
    "# STEP 5: Clean the Text\n",
    "import re\n",
    "def clean_text(text):\n",
    "    text = text.lower()\n",
    "    text = re.sub(r'\\[.*?\\]', '', text)\n",
    "    text = re.sub(r'https?://\\S+|www\\.\\S+', '', text)\n",
    "    text = re.sub(r'<.*?>+', '', text)\n",
    "    text = re.sub(r'[^a-zA-Z\\s]', '', text)\n",
    "    text = re.sub(r'\\n', '', text)\n",
    "    return text\n",
    "\n",
    "df['clean_content'] = df['content'].apply(clean_text)"
   ]
  },
  {
   "cell_type": "code",
   "execution_count": 14,
   "id": "58e5ce22-b55b-46e9-bcd5-dab7716717c6",
   "metadata": {},
   "outputs": [],
   "source": [
    "# STEP 6: TF-IDF Vectorization\n",
    "from sklearn.feature_extraction.text import TfidfVectorizer\n",
    "vectorizer = TfidfVectorizer(stop_words='english', max_df=0.7)\n",
    "X = vectorizer.fit_transform(df['clean_content'])\n",
    "y = df['label']"
   ]
  },
  {
   "cell_type": "code",
   "execution_count": 15,
   "id": "b4ef1c3a-2c95-48dc-a8e7-fe020ca1d3c3",
   "metadata": {},
   "outputs": [],
   "source": [
    "# STEP 7: Train-Test Split\n",
    "from sklearn.model_selection import train_test_split\n",
    "X_train, X_test, y_train, y_test = train_test_split(X, y, test_size=0.2, random_state=42)\n"
   ]
  },
  {
   "cell_type": "code",
   "execution_count": 16,
   "id": "945d7076-12b9-4419-a619-548b868dd6b0",
   "metadata": {},
   "outputs": [],
   "source": [
    "# STEP 8: Decision Tree Classifier\n",
    "from sklearn.tree import DecisionTreeClassifier\n",
    "from sklearn.metrics import classification_report, accuracy_score"
   ]
  },
  {
   "cell_type": "code",
   "execution_count": 17,
   "id": "58443f89-c9ec-48e1-8e45-0185e88dfdd0",
   "metadata": {},
   "outputs": [
    {
     "name": "stdout",
     "output_type": "stream",
     "text": [
      "Decision Tree Accuracy: 0.9948775055679288\n",
      "              precision    recall  f1-score   support\n",
      "\n",
      "           0       0.99      1.00      1.00      4690\n",
      "           1       1.00      0.99      0.99      4290\n",
      "\n",
      "    accuracy                           0.99      8980\n",
      "   macro avg       0.99      0.99      0.99      8980\n",
      "weighted avg       0.99      0.99      0.99      8980\n",
      "\n"
     ]
    }
   ],
   "source": [
    "dt = DecisionTreeClassifier()\n",
    "dt.fit(X_train, y_train)\n",
    "y_pred_dt = dt.predict(X_test)\n",
    "print(\"Decision Tree Accuracy:\", accuracy_score(y_test, y_pred_dt))\n",
    "print(classification_report(y_test, y_pred_dt))"
   ]
  },
  {
   "cell_type": "code",
   "execution_count": 30,
   "id": "433e0739-f1da-41ed-b1ae-38e8cb011e27",
   "metadata": {},
   "outputs": [],
   "source": [
    "# STEP 9: Random Forest Classifier\n",
    "from sklearn.ensemble import RandomForestClassifier"
   ]
  },
  {
   "cell_type": "code",
   "execution_count": 31,
   "id": "b206f94c-18f9-45cd-a78e-e8a45eace9cb",
   "metadata": {},
   "outputs": [
    {
     "name": "stdout",
     "output_type": "stream",
     "text": [
      "\n",
      "Random Forest Accuracy: 0.9916481069042317\n",
      "              precision    recall  f1-score   support\n",
      "\n",
      "           0       0.99      0.99      0.99      4690\n",
      "           1       0.99      0.99      0.99      4290\n",
      "\n",
      "    accuracy                           0.99      8980\n",
      "   macro avg       0.99      0.99      0.99      8980\n",
      "weighted avg       0.99      0.99      0.99      8980\n",
      "\n"
     ]
    }
   ],
   "source": [
    "rf = RandomForestClassifier()\n",
    "rf.fit(X_train, y_train)\n",
    "y_pred_rf = rf.predict(X_test)\n",
    "print(\"\\nRandom Forest Accuracy:\", accuracy_score(y_test, y_pred_rf))\n",
    "print(classification_report(y_test, y_pred_rf))\n"
   ]
  },
  {
   "cell_type": "code",
   "execution_count": 24,
   "id": "30a30b23-9d23-4d1c-b8a0-f3a964d567af",
   "metadata": {},
   "outputs": [],
   "source": [
    "# STEP 10: Linear Regression\n",
    "from sklearn.linear_model import LinearRegression\n",
    "from sklearn.metrics import mean_squared_error, r2_score\n"
   ]
  },
  {
   "cell_type": "code",
   "execution_count": 25,
   "id": "9a44122c-36a1-4671-9710-219e94af16af",
   "metadata": {},
   "outputs": [],
   "source": [
    "# For regression, use continuous label (just for demonstration, not practical here)\n",
    "y_train_reg = y_train.astype(float)\n",
    "y_test_reg = y_test.astype(float)\n"
   ]
  },
  {
   "cell_type": "code",
   "execution_count": 26,
   "id": "9096d051-ce03-42aa-b6c4-dd73d2bc80ee",
   "metadata": {},
   "outputs": [],
   "source": [
    "lr = LinearRegression()\n",
    "lr.fit(X_train, y_train_reg)\n",
    "y_pred_lr = lr.predict(X_test)\n"
   ]
  },
  {
   "cell_type": "code",
   "execution_count": 27,
   "id": "b528678b-5ab2-4bda-99ab-bcdfcab4862a",
   "metadata": {},
   "outputs": [
    {
     "name": "stdout",
     "output_type": "stream",
     "text": [
      "\n",
      "Linear Regression R^2 Score: 0.7778262326431957\n",
      "Mean Squared Error: 0.0554332371441069\n"
     ]
    }
   ],
   "source": [
    "print(\"\\nLinear Regression R^2 Score:\", r2_score(y_test_reg, y_pred_lr))\n",
    "print(\"Mean Squared Error:\", mean_squared_error(y_test_reg, y_pred_lr))\n"
   ]
  },
  {
   "cell_type": "code",
   "execution_count": 28,
   "id": "7872420f-c906-4615-893e-a361bc130e6a",
   "metadata": {},
   "outputs": [],
   "source": [
    "# STEP 11: Summary Comparison Plot\n",
    "models = ['Decision Tree', 'Random Forest']\n",
    "accuracies = [\n",
    "    accuracy_score(y_test, y_pred_dt),\n",
    "    accuracy_score(y_test, y_pred_rf)\n",
    "]"
   ]
  },
  {
   "cell_type": "code",
   "execution_count": 29,
   "id": "7b181833-9b32-4b5d-a2a3-a2ddb8c4d6f0",
   "metadata": {},
   "outputs": [
    {
     "data": {
      "image/png": "[encoded data removed]",
      "text/plain": [
       "<Figure size 800x500 with 1 Axes>"
      ]
     },
     "metadata": {},
     "output_type": "display_data"
    }
   ],
   "source": [
    "plt.figure(figsize=(8, 5))\n",
    "sns.barplot(x=models, y=accuracies)\n",
    "plt.title('Model Comparison - Accuracy')\n",
    "plt.ylabel('Accuracy')\n",
    "plt.ylim(0.7, 1.0)\n",
    "plt.xticks(rotation=45)\n",
    "plt.show()\n"
   ]
  },
  {
   "cell_type": "code",
   "execution_count": null,
   "id": "ff851dfe-9307-469f-ad8a-4743503b0eab",
   "metadata": {},
   "outputs": [],
   "source": []
  }
 ],
 "metadata": {
  "kernelspec": {
   "display_name": "Python 3 (ipykernel)",
   "language": "python",
   "name": "python3"
  },
  "language_info": {
   "codemirror_mode": {
    "name": "ipython",
    "version": 3
   },
   "file_extension": ".py",
   "mimetype": "text/x-python",
   "name": "python",
   "nbconvert_exporter": "python",
   "pygments_lexer": "ipython3",
   "version": "3.12.7"
  }
 },
 "nbformat": 4,
 "nbformat_minor": 5
}
